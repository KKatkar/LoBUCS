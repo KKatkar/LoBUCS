{
 "cells": [
  {
   "cell_type": "code",
   "execution_count": 18,
   "metadata": {
    "collapsed": true
   },
   "outputs": [],
   "source": [
    "import boto\n",
    "import boto.ec2\n",
    "import ConfigParser\n",
    "import base64\n",
    "import boto.sqs\n",
    "import boto.s3.connection\n",
    "import boto.dynamodb\n",
    "import shutil\n",
    "import os"
   ]
  },
  {
   "cell_type": "code",
   "execution_count": 19,
   "metadata": {
    "collapsed": true
   },
   "outputs": [],
   "source": [
    "#read config file\n",
    "def read_config_file(file_name):\n",
    "    config = ConfigParser.RawConfigParser()\n",
    "    config.read(file_name)\n",
    "    return config"
   ]
  },
  {
   "cell_type": "code",
   "execution_count": 20,
   "metadata": {
    "collapsed": true
   },
   "outputs": [],
   "source": [
    "config = read_config_file('../config/config.cfg')"
   ]
  },
  {
   "cell_type": "code",
   "execution_count": 21,
   "metadata": {
    "collapsed": true
   },
   "outputs": [],
   "source": [
    "#sqs connection \n",
    "connsqs = boto.sqs.connect_to_region( config.get('AWS_CRED','REGION'),\n",
    "                                   aws_access_key_id= config.get('AWS_CRED','AWS_ACCESS_KEY_ID'),\n",
    "                                   aws_secret_access_key=config.get('AWS_CRED','AWS_SECRECT_ACCESS_KEY'))"
   ]
  },
  {
   "cell_type": "code",
   "execution_count": 22,
   "metadata": {
    "collapsed": true
   },
   "outputs": [],
   "source": [
    "#create queue\n",
    "q = connsqs.create_queue(config.get('SQS','QUEUE_NAME'), \n",
    "                          config.get('SQS','TIME_OUT'))"
   ]
  },
  {
   "cell_type": "code",
   "execution_count": 23,
   "metadata": {
    "collapsed": true
   },
   "outputs": [],
   "source": [
    "#dynamo DB connection\n",
    "conndynamo = boto.dynamodb.connect_to_region( config.get('AWS_CRED','REGION'),\n",
    "                                   aws_access_key_id= config.get('AWS_CRED','AWS_ACCESS_KEY_ID'),\n",
    "                                   aws_secret_access_key=config.get('AWS_CRED','AWS_SECRECT_ACCESS_KEY'))"
   ]
  },
  {
   "cell_type": "code",
   "execution_count": 24,
   "metadata": {
    "collapsed": true
   },
   "outputs": [],
   "source": [
    "#create schema\n",
    "message_table_schema = conndynamo.create_schema(\n",
    "        hash_key_name=config.get('DYNAMODB','HASH_KEY'),\n",
    "        hash_key_proto_value=str,\n",
    "    )"
   ]
  },
  {
   "cell_type": "code",
   "execution_count": 25,
   "metadata": {
    "collapsed": true
   },
   "outputs": [],
   "source": [
    "#create table\n",
    "table = conndynamo.create_table(\n",
    "        name= config.get('DYNAMODB','TABLE_NAME'),\n",
    "        schema=message_table_schema,\n",
    "        read_units= long(config.get('DYNAMODB','READ_UNITS')),\n",
    "        write_units=long(config.get('DYNAMODB','WRITE_UNITS'))\n",
    "    )"
   ]
  },
  {
   "cell_type": "code",
   "execution_count": 9,
   "metadata": {
    "collapsed": false
   },
   "outputs": [],
   "source": [
    "# %run D:/Cloud1/animato_master/webserver/webserver_2.py"
   ]
  },
  {
   "cell_type": "code",
   "execution_count": 26,
   "metadata": {
    "collapsed": true
   },
   "outputs": [],
   "source": [
    "#get connection ec2\n",
    "conn = boto.ec2.connect_to_region(config.get('AWS_CRED','REGION'),\n",
    "                                  aws_access_key_id= config.get('AWS_CRED','AWS_ACCESS_KEY_ID'),\n",
    "                                  aws_secret_access_key=config.get('AWS_CRED','AWS_SECRECT_ACCESS_KEY'))"
   ]
  },
  {
   "cell_type": "code",
   "execution_count": 27,
   "metadata": {
    "collapsed": false
   },
   "outputs": [
    {
     "data": {
      "text/plain": [
       "True"
      ]
     },
     "execution_count": 27,
     "metadata": {},
     "output_type": "execute_result"
    }
   ],
   "source": [
    "#create security group for worker\n",
    "worker_security_grp = conn.create_security_group(config.get('WORKER','SEQURITY_GROUP_NAME'),\n",
    "                                 config.get('WORKER','SEQURITY_GROUP_NAME_DESC'))\n",
    "\n",
    "worker_security_grp.authorize('tcp', 22, 22, '0.0.0.0/0')"
   ]
  },
  {
   "cell_type": "code",
   "execution_count": 12,
   "metadata": {
    "collapsed": false
   },
   "outputs": [
    {
     "data": {
      "text/plain": [
       "'\\nstart_worker_code = \"\"\"#!/bin/sh\\npython /home/ec2-user/animato_master/worker/worker.py\\n\"\"\"\\n'"
      ]
     },
     "execution_count": 12,
     "metadata": {},
     "output_type": "execute_result"
    }
   ],
   "source": [
    "'''\n",
    "start_worker_code = \"\"\"#!/bin/sh\n",
    "python /home/ec2-user/animato_master/worker/worker.py\n",
    "\"\"\"\n",
    "'''"
   ]
  },
  {
   "cell_type": "code",
   "execution_count": 13,
   "metadata": {
    "collapsed": false
   },
   "outputs": [
    {
     "data": {
      "text/plain": [
       "\"\\n#launch worker instance\\nconn.run_instances(config.get('WORKER','IMAGE_ID'),\\n        key_name=  config.get('AWS_CRED','KEY_NAME'),\\n        instance_type= config.get('WORKER','INSTANCE_TYPE'),\\n        security_groups= [worker_security_grp],\\n        user_data = start_worker_code\\n        )\\n\""
      ]
     },
     "execution_count": 13,
     "metadata": {},
     "output_type": "execute_result"
    }
   ],
   "source": [
    "'''\n",
    "#launch worker instance\n",
    "conn.run_instances(config.get('WORKER','IMAGE_ID'),\n",
    "        key_name=  config.get('AWS_CRED','KEY_NAME'),\n",
    "        instance_type= config.get('WORKER','INSTANCE_TYPE'),\n",
    "        security_groups= [worker_security_grp],\n",
    "        user_data = start_worker_code\n",
    "        )\n",
    "'''"
   ]
  },
  {
   "cell_type": "code",
   "execution_count": 28,
   "metadata": {
    "collapsed": false
   },
   "outputs": [
    {
     "data": {
      "text/plain": [
       "True"
      ]
     },
     "execution_count": 28,
     "metadata": {},
     "output_type": "execute_result"
    }
   ],
   "source": [
    "#create security group for watcher\n",
    "watcher_security_grp = conn.create_security_group(config.get('WATCHER','SEQURITY_GROUP_NAME'),\n",
    "                                 config.get('WATCHER','SEQURITY_GROUP_NAME_DESC'))\n",
    "\n",
    "watcher_security_grp.authorize('tcp', 22, 22, '0.0.0.0/0')"
   ]
  },
  {
   "cell_type": "code",
   "execution_count": 29,
   "metadata": {
    "collapsed": false
   },
   "outputs": [],
   "source": [
    "start_watcher_code = \"\"\"#!/bin/sh\n",
    "python /home/ec2-user/cloud_master/watcher/watcher.py\n",
    "\"\"\""
   ]
  },
  {
   "cell_type": "code",
   "execution_count": 30,
   "metadata": {
    "collapsed": false
   },
   "outputs": [
    {
     "data": {
      "text/plain": [
       "Reservation:r-083d4a5512cf38eb4"
      ]
     },
     "execution_count": 30,
     "metadata": {},
     "output_type": "execute_result"
    }
   ],
   "source": [
    "#launch watcher instance\n",
    "conn.run_instances(config.get('WATCHER','IMAGE_ID'),\n",
    "        key_name=  config.get('AWS_CRED','KEY_NAME'),\n",
    "        instance_type= config.get('WATCHER','INSTANCE_TYPE'),\n",
    "        security_groups= [watcher_security_grp],\n",
    "        user_data = start_watcher_code\n",
    "        )"
   ]
  },
  {
   "cell_type": "code",
   "execution_count": null,
   "metadata": {
    "collapsed": true
   },
   "outputs": [],
   "source": []
  }
 ],
 "metadata": {
  "anaconda-cloud": {},
  "kernelspec": {
   "display_name": "Python 2",
   "language": "python",
   "name": "python2"
  },
  "language_info": {
   "codemirror_mode": {
    "name": "ipython",
    "version": 2
   },
   "file_extension": ".py",
   "mimetype": "text/x-python",
   "name": "python",
   "nbconvert_exporter": "python",
   "pygments_lexer": "ipython2",
   "version": "2.7.13"
  }
 },
 "nbformat": 4,
 "nbformat_minor": 1
}

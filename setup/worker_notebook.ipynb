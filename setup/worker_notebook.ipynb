{
 "cells": [
  {
   "cell_type": "code",
   "execution_count": 226,
   "metadata": {
    "collapsed": true
   },
   "outputs": [],
   "source": [
    "#!/usr/bin/env python\n",
    "import ConfigParser\n",
    "import logging\n",
    "import boto.sqs\n",
    "from boto.sqs.message import Message\n",
    "import boto.dynamodb\n",
    "from boto.s3.connection import S3Connection\n",
    "import time\n",
    "import shutil\n",
    "import os\n",
    "from boto.s3.key import Key"
   ]
  },
  {
   "cell_type": "code",
   "execution_count": 227,
   "metadata": {
    "collapsed": true
   },
   "outputs": [],
   "source": [
    "config = ConfigParser.RawConfigParser() "
   ]
  },
  {
   "cell_type": "code",
   "execution_count": 228,
   "metadata": {
    "collapsed": false
   },
   "outputs": [
    {
     "data": {
      "text/plain": [
       "['D:\\\\Cloud1\\\\animato_master\\\\configs\\\\worker.cfg']"
      ]
     },
     "execution_count": 228,
     "metadata": {},
     "output_type": "execute_result"
    }
   ],
   "source": [
    "config.read(\"D:\\\\Cloud1\\\\animato_master\\\\configs\\\\worker.cfg\")\n",
    "#config.read(config_file)"
   ]
  },
  {
   "cell_type": "code",
   "execution_count": 229,
   "metadata": {
    "collapsed": false
   },
   "outputs": [
    {
     "data": {
      "text/plain": [
       "['AWS_CRED', 'WEB_SERVER', 'SQS', 'DYNAMODB', 'WATCHER', 'WORKER']"
      ]
     },
     "execution_count": 229,
     "metadata": {},
     "output_type": "execute_result"
    }
   ],
   "source": [
    "config.sections()"
   ]
  },
  {
   "cell_type": "code",
   "execution_count": 230,
   "metadata": {
    "collapsed": true
   },
   "outputs": [],
   "source": [
    "logging.basicConfig(filename='../logs/worker.log',level=logging.DEBUG)"
   ]
  },
  {
   "cell_type": "code",
   "execution_count": 231,
   "metadata": {
    "collapsed": true
   },
   "outputs": [],
   "source": [
    "def create_sqs_connection(region,access_key_id,secret_access_key,queue_name):\n",
    "        \"\"\"Create connection object to sqs \n",
    "        Args:\n",
    "            region: aws region where sqs is present\n",
    "            aws_access_key_id,aws_secret_access_key : credentials to make connection\n",
    "            queue_name: name of the queue\n",
    "        \"\"\"\n",
    "        conn = boto.sqs.connect_to_region(region,\n",
    "                                      aws_access_key_id= access_key_id,\n",
    "                                      aws_secret_access_key= secret_access_key\n",
    "                                      )\n",
    "        if conn:\n",
    "            queue_obj = conn.get_queue(queue_name)\n",
    "            if queue_obj:\n",
    "                logging.info('returning %s queueobject '%(queue_name))\n",
    "                return queue_obj\n",
    "            else:\n",
    "                logging.error('unable to get %s queue '%(queue_name))\n",
    "                return None\n",
    "        else:\n",
    "            logging.error('unable to make connection to aws')\n",
    "            return None"
   ]
  },
  {
   "cell_type": "code",
   "execution_count": 232,
   "metadata": {
    "collapsed": false
   },
   "outputs": [
    {
     "name": "stdout",
     "output_type": "stream",
     "text": [
      "<ConfigParser.RawConfigParser instance at 0x0000000006CC7CC8>\n"
     ]
    }
   ],
   "source": [
    "print config"
   ]
  },
  {
   "cell_type": "code",
   "execution_count": 233,
   "metadata": {
    "collapsed": false
   },
   "outputs": [],
   "source": [
    "sqsObj = create_sqs_connection(config.get('AWS_CRED','REGION'),\n",
    "                                   config.get('AWS_CRED','AWS_ACCESS_KEY_ID'),\n",
    "                                   config.get('AWS_CRED','AWS_SECRECT_ACCESS_KEY'),\n",
    "                                   config.get('SQS','QUEUE_NAME')\n",
    "                                   )"
   ]
  },
  {
   "cell_type": "code",
   "execution_count": 241,
   "metadata": {
    "collapsed": false
   },
   "outputs": [
    {
     "name": "stdout",
     "output_type": "stream",
     "text": [
      "[u'3', u'AA']\n",
      "2\n",
      "3\n",
      "[u'AA']\n"
     ]
    }
   ],
   "source": [
    "rs = sqsObj.get_messages()\n",
    "message = rs[0]\n",
    "message = message.get_body()\n",
    "message = message.split('|')\n",
    "print message\n",
    "print len(message)\n",
    "customer_id = message[0]\n",
    "job = message[1:]\n",
    "print customer_id\n",
    "print job"
   ]
  },
  {
   "cell_type": "code",
   "execution_count": 235,
   "metadata": {
    "collapsed": false
   },
   "outputs": [],
   "source": [
    "def create_dynamo_db_connection(region,access_key_id,secret_access_key,table_name):\n",
    "        \"\"\"\n",
    "        Used to get table Object\n",
    "        Args:\n",
    "            region: aws region where sqs is present\n",
    "            aws_access_key_id,aws_secret_access_key : credentials to make connection\n",
    "            table_name: name of the table\n",
    "        \"\"\"\n",
    "        conn = boto.dynamodb.connect_to_region(region,\n",
    "                                                aws_access_key_id=access_key_id,\n",
    "                                                aws_secret_access_key=secret_access_key\n",
    "                                                )\n",
    "        if conn:\n",
    "            tableObj = conn.get_table(table_name)\n",
    "            if tableObj:\n",
    "                logging.info('returning %s tableObj '%(table_name))\n",
    "                return tableObj\n",
    "            else:\n",
    "                logging.error('unable to create %s tableObj '%(table_name))\n",
    "                return None\n",
    "        else:\n",
    "            logging.error('unable to make connection to aws')\n",
    "            return None"
   ]
  },
  {
   "cell_type": "code",
   "execution_count": 236,
   "metadata": {
    "collapsed": true
   },
   "outputs": [],
   "source": [
    "dynamoObj = create_dynamo_db_connection(config.get('AWS_CRED','REGION'),\n",
    "                                   config.get('AWS_CRED','AWS_ACCESS_KEY_ID'),\n",
    "                                   config.get('AWS_CRED','AWS_SECRECT_ACCESS_KEY'),\n",
    "                                   config.get('DYNAMODB','TABLE_NAME')\n",
    "                                   )"
   ]
  },
  {
   "cell_type": "code",
   "execution_count": 237,
   "metadata": {
    "collapsed": false
   },
   "outputs": [
    {
     "name": "stdout",
     "output_type": "stream",
     "text": [
      "Table(JobScheduler)\n"
     ]
    }
   ],
   "source": [
    "print dynamoObj"
   ]
  },
  {
   "cell_type": "code",
   "execution_count": 238,
   "metadata": {
    "collapsed": false
   },
   "outputs": [
    {
     "data": {
      "text/plain": [
       "<boto.sqs.message.Message at 0x6ceea20>"
      ]
     },
     "execution_count": 238,
     "metadata": {},
     "output_type": "execute_result"
    }
   ],
   "source": [
    "#Through boto add to sqs\n",
    "m = Message()\n",
    "m.set_body('3'+\"|\"+'AA')\n",
    "sqsObj.write(m)"
   ]
  },
  {
   "cell_type": "code",
   "execution_count": 240,
   "metadata": {
    "collapsed": false
   },
   "outputs": [
    {
     "data": {
      "text/plain": [
       "{u'ConsumedCapacityUnits': 1.0}"
      ]
     },
     "execution_count": 240,
     "metadata": {},
     "output_type": "execute_result"
    }
   ],
   "source": [
    "#Through boto add to dynamodb\n",
    "data ={'job_stats':'C','try_count':0}\n",
    "item = dynamoObj.new_item(hash_key = 3, \n",
    "                                  attrs= data\n",
    "                                  )\n",
    "item.put()"
   ]
  },
  {
   "cell_type": "code",
   "execution_count": 242,
   "metadata": {
    "collapsed": false
   },
   "outputs": [],
   "source": [
    "def fetch_job_from_sqs():\n",
    "        rs = sqsObj.get_messages()\n",
    "        if rs and rs[0]:\n",
    "            message = rs[0]\n",
    "            message = message.get_body()\n",
    "            message = message.split('|')\n",
    "            #if len(message) < 2:  #---------why is this set to false?\n",
    "                #return False\n",
    "            customer_id = message[0]\n",
    "            global job\n",
    "            job = message[1:]\n",
    "            message = rs[0]\n",
    "            return True\n",
    "        return False"
   ]
  },
  {
   "cell_type": "code",
   "execution_count": 243,
   "metadata": {
    "collapsed": true
   },
   "outputs": [],
   "source": [
    "def check_item_exists():\n",
    "        \"\"\"Checks whether an item exists in DynamoDB or Not\n",
    "        \"\"\"\n",
    "        try:\n",
    "            item = dynamoObj.get_item(\n",
    "            hash_key = self.customer_id)\n",
    "            return item\n",
    "        except:\n",
    "            return None"
   ]
  },
  {
   "cell_type": "code",
   "execution_count": 244,
   "metadata": {
    "collapsed": true
   },
   "outputs": [],
   "source": [
    "def update_count_by_1():\n",
    "        item = check_item_exists()\n",
    "        if item:\n",
    "            item['try_count'] = item['try_count']+1\n",
    "            item.put()"
   ]
  },
  {
   "cell_type": "code",
   "execution_count": 245,
   "metadata": {
    "collapsed": true
   },
   "outputs": [],
   "source": [
    "def is_job_already_taken():\n",
    "        item = check_item_exists()\n",
    "        if item and (item['job_stats'] == 'P' and item['try_count'] <3 ):\n",
    "            update_count_by_1()\n",
    "            return True\n",
    "        return False"
   ]
  },
  {
   "cell_type": "code",
   "execution_count": 246,
   "metadata": {
    "collapsed": true
   },
   "outputs": [],
   "source": [
    "def change_job_status(status):\n",
    "        item = check_item_exists()\n",
    "        if item:\n",
    "            item['job_stats'] = status\n",
    "            item.put()\n",
    "            return True\n",
    "        \n",
    "        return False"
   ]
  },
  {
   "cell_type": "code",
   "execution_count": 247,
   "metadata": {
    "collapsed": true
   },
   "outputs": [],
   "source": [
    "def create_s3_connection(access_key_id,secret_access_key,bucket_name):\n",
    "        conn = S3Connection(access_key_id,secret_access_key)\n",
    "        if conn:\n",
    "            s3obj = conn.get_bucket(bucket_name)\n",
    "            if s3obj:\n",
    "               logging.info('returning %s s3Obj '%(bucket_name))\n",
    "               return s3obj\n",
    "            else:\n",
    "                logging.error('unable to create %s s3Obj '%(bucket_name))\n",
    "                return None\n",
    "        else:\n",
    "            logging.error('unable to make connection to aws')\n",
    "            return None"
   ]
  },
  {
   "cell_type": "code",
   "execution_count": 248,
   "metadata": {
    "collapsed": true
   },
   "outputs": [],
   "source": [
    "def download_files_from_s3(s3obj):\n",
    "        directory = './'+self.customer_id+'/'\n",
    "        if os.path.exists(directory):\n",
    "            shutil.rmtree(directory)\n",
    "        os.makedirs(directory) \n",
    "        for key in s3obj.list():\n",
    "            key.get_contents_to_filename(directory+'/'+key.name)"
   ]
  },
  {
   "cell_type": "code",
   "execution_count": 249,
   "metadata": {
    "collapsed": true
   },
   "outputs": [],
   "source": [
    "def process_downloaded_files():\n",
    "        directory = './'+customer_id+'/'\n",
    "        cmd = 'convert '+directory+'*.jpg -delay 50 -morph 10 '+ directory+'out.mpeg'\n",
    "        ret = os.system(cmd)\n",
    "        return ret"
   ]
  },
  {
   "cell_type": "code",
   "execution_count": 250,
   "metadata": {
    "collapsed": true
   },
   "outputs": [],
   "source": [
    "def put_video_to_s3(s3obj):\n",
    "        k = Key(s3obj)\n",
    "        k.key = 'myvideo.mpeg'\n",
    "        filename = './'+customer_id+'/'+'out.mpeg'\n",
    "        k.set_contents_from_filename(filename)\n",
    "        \n",
    "        shutil.rmtree('./'+customer_id+'/')\n",
    "        return True"
   ]
  },
  {
   "cell_type": "code",
   "execution_count": 251,
   "metadata": {
    "collapsed": true
   },
   "outputs": [],
   "source": [
    "def process_video_job(bucket_name):\n",
    "        s3obj = create_s3_connection(config.get('AWS_CRED','AWS_ACCESS_KEY_ID'),\n",
    "                                   config.get('AWS_CRED','AWS_SECRECT_ACCESS_KEY'),\n",
    "                                   bucket_name\n",
    "                                   )\n",
    "        if s3obj:\n",
    "            logging.info(\"connected to %s S3 bucket\"%(bucket_name))\n",
    "            download_files_from_s3(s3obj)\n",
    "            if process_downloaded_files() ==0:\n",
    "                put_video_to_s3(s3obj)\n",
    "                logging.info(\"video now available in %s bucket\"%(bucket_name))\n",
    "                return True\n",
    "            \n",
    "        else:\n",
    "            logging.error(\"Unable to connect to %s S3 bucket\"%(bucket_name))"
   ]
  },
  {
   "cell_type": "code",
   "execution_count": 252,
   "metadata": {
    "collapsed": true
   },
   "outputs": [],
   "source": [
    "def process_job():\n",
    "        for j in job:\n",
    "            '''\n",
    "            t = job.strip().split()\n",
    "            if len(t) == 2:#sleep job\n",
    "                logging.debug('Sleeping for %d seconds'%(int(t[1])))\n",
    "                time.sleep(int(t[1]))\n",
    "            elif len(t) == 1:#video  job\n",
    "                logging.debug('Started video  job')\n",
    "                process_video_job(job)\n",
    "            else:\n",
    "                return False\n",
    "            '''\n",
    "            logging.debug('Started video  job')\n",
    "            process_video_job(j)\n",
    "            \n",
    "        return True"
   ]
  },
  {
   "cell_type": "code",
   "execution_count": 253,
   "metadata": {
    "collapsed": false
   },
   "outputs": [
    {
     "name": "stdout",
     "output_type": "stream",
     "text": [
      "[u'AA']\n"
     ]
    }
   ],
   "source": [
    "print job"
   ]
  },
  {
   "cell_type": "code",
   "execution_count": 254,
   "metadata": {
    "collapsed": true
   },
   "outputs": [],
   "source": [
    "def remove_job_from_sqs():\n",
    "        sqsObj.delete_message(message)\n",
    "        return True"
   ]
  },
  {
   "cell_type": "code",
   "execution_count": 255,
   "metadata": {
    "collapsed": false
   },
   "outputs": [
    {
     "ename": "AttributeError",
     "evalue": "'list' object has no attribute 'receipt_handle'",
     "output_type": "error",
     "traceback": [
      "\u001b[0;31m---------------------------------------------------------------------------\u001b[0m",
      "\u001b[0;31mAttributeError\u001b[0m                            Traceback (most recent call last)",
      "\u001b[0;32m<ipython-input-255-012f9f86476f>\u001b[0m in \u001b[0;36m<module>\u001b[0;34m()\u001b[0m\n\u001b[1;32m      7\u001b[0m                     \u001b[0mchange_job_status\u001b[0m\u001b[1;33m(\u001b[0m\u001b[1;34m'E'\u001b[0m\u001b[1;33m)\u001b[0m\u001b[1;33m\u001b[0m\u001b[0m\n\u001b[1;32m      8\u001b[0m \u001b[1;33m\u001b[0m\u001b[0m\n\u001b[0;32m----> 9\u001b[0;31m                 \u001b[0mremove_job_from_sqs\u001b[0m\u001b[1;33m(\u001b[0m\u001b[1;33m)\u001b[0m\u001b[1;33m\u001b[0m\u001b[0m\n\u001b[0m",
      "\u001b[0;32m<ipython-input-254-c9c5e94a53c5>\u001b[0m in \u001b[0;36mremove_job_from_sqs\u001b[0;34m()\u001b[0m\n\u001b[1;32m      1\u001b[0m \u001b[1;32mdef\u001b[0m \u001b[0mremove_job_from_sqs\u001b[0m\u001b[1;33m(\u001b[0m\u001b[1;33m)\u001b[0m\u001b[1;33m:\u001b[0m\u001b[1;33m\u001b[0m\u001b[0m\n\u001b[0;32m----> 2\u001b[0;31m         \u001b[0msqsObj\u001b[0m\u001b[1;33m.\u001b[0m\u001b[0mdelete_message\u001b[0m\u001b[1;33m(\u001b[0m\u001b[0mmessage\u001b[0m\u001b[1;33m)\u001b[0m\u001b[1;33m\u001b[0m\u001b[0m\n\u001b[0m\u001b[1;32m      3\u001b[0m         \u001b[1;32mreturn\u001b[0m \u001b[0mTrue\u001b[0m\u001b[1;33m\u001b[0m\u001b[0m\n",
      "\u001b[0;32mD:\\Users\\Gaming Dabba\\Anaconda2\\lib\\site-packages\\boto\\sqs\\queue.pyc\u001b[0m in \u001b[0;36mdelete_message\u001b[0;34m(self, message)\u001b[0m\n\u001b[1;32m    361\u001b[0m         \u001b[1;33m:\u001b[0m\u001b[1;32mreturn\u001b[0m\u001b[1;33m:\u001b[0m \u001b[0mTrue\u001b[0m \u001b[1;32mif\u001b[0m \u001b[0msuccessful\u001b[0m\u001b[1;33m,\u001b[0m \u001b[0mFalse\u001b[0m \u001b[0motherwise\u001b[0m\u001b[1;33m\u001b[0m\u001b[0m\n\u001b[1;32m    362\u001b[0m         \"\"\"\n\u001b[0;32m--> 363\u001b[0;31m         \u001b[1;32mreturn\u001b[0m \u001b[0mself\u001b[0m\u001b[1;33m.\u001b[0m\u001b[0mconnection\u001b[0m\u001b[1;33m.\u001b[0m\u001b[0mdelete_message\u001b[0m\u001b[1;33m(\u001b[0m\u001b[0mself\u001b[0m\u001b[1;33m,\u001b[0m \u001b[0mmessage\u001b[0m\u001b[1;33m)\u001b[0m\u001b[1;33m\u001b[0m\u001b[0m\n\u001b[0m\u001b[1;32m    364\u001b[0m \u001b[1;33m\u001b[0m\u001b[0m\n\u001b[1;32m    365\u001b[0m     \u001b[1;32mdef\u001b[0m \u001b[0mdelete_message_batch\u001b[0m\u001b[1;33m(\u001b[0m\u001b[0mself\u001b[0m\u001b[1;33m,\u001b[0m \u001b[0mmessages\u001b[0m\u001b[1;33m)\u001b[0m\u001b[1;33m:\u001b[0m\u001b[1;33m\u001b[0m\u001b[0m\n",
      "\u001b[0;32mD:\\Users\\Gaming Dabba\\Anaconda2\\lib\\site-packages\\boto\\sqs\\connection.pyc\u001b[0m in \u001b[0;36mdelete_message\u001b[0;34m(self, queue, message)\u001b[0m\n\u001b[1;32m    292\u001b[0m         \u001b[1;33m:\u001b[0m\u001b[1;32mreturn\u001b[0m\u001b[1;33m:\u001b[0m \u001b[0mTrue\u001b[0m \u001b[1;32mif\u001b[0m \u001b[0msuccessful\u001b[0m\u001b[1;33m,\u001b[0m \u001b[0mFalse\u001b[0m \u001b[0motherwise\u001b[0m\u001b[1;33m.\u001b[0m\u001b[1;33m\u001b[0m\u001b[0m\n\u001b[1;32m    293\u001b[0m         \"\"\"\n\u001b[0;32m--> 294\u001b[0;31m         \u001b[0mparams\u001b[0m \u001b[1;33m=\u001b[0m \u001b[1;33m{\u001b[0m\u001b[1;34m'ReceiptHandle'\u001b[0m \u001b[1;33m:\u001b[0m \u001b[0mmessage\u001b[0m\u001b[1;33m.\u001b[0m\u001b[0mreceipt_handle\u001b[0m\u001b[1;33m}\u001b[0m\u001b[1;33m\u001b[0m\u001b[0m\n\u001b[0m\u001b[1;32m    295\u001b[0m         \u001b[1;32mreturn\u001b[0m \u001b[0mself\u001b[0m\u001b[1;33m.\u001b[0m\u001b[0mget_status\u001b[0m\u001b[1;33m(\u001b[0m\u001b[1;34m'DeleteMessage'\u001b[0m\u001b[1;33m,\u001b[0m \u001b[0mparams\u001b[0m\u001b[1;33m,\u001b[0m \u001b[0mqueue\u001b[0m\u001b[1;33m.\u001b[0m\u001b[0mid\u001b[0m\u001b[1;33m)\u001b[0m\u001b[1;33m\u001b[0m\u001b[0m\n\u001b[1;32m    296\u001b[0m \u001b[1;33m\u001b[0m\u001b[0m\n",
      "\u001b[0;31mAttributeError\u001b[0m: 'list' object has no attribute 'receipt_handle'"
     ]
    }
   ],
   "source": [
    "while(True):\n",
    "            if fetch_job_from_sqs() and not is_job_already_taken():\n",
    "                change_job_status('P')\n",
    "                if process_job():\n",
    "                    change_job_status('F')\n",
    "                else:\n",
    "                    change_job_status('E')\n",
    "                    \n",
    "                remove_job_from_sqs()"
   ]
  },
  {
   "cell_type": "code",
   "execution_count": null,
   "metadata": {
    "collapsed": true
   },
   "outputs": [],
   "source": []
  }
 ],
 "metadata": {
  "anaconda-cloud": {},
  "kernelspec": {
   "display_name": "Python [default]",
   "language": "python",
   "name": "python2"
  },
  "language_info": {
   "codemirror_mode": {
    "name": "ipython",
    "version": 2
   },
   "file_extension": ".py",
   "mimetype": "text/x-python",
   "name": "python",
   "nbconvert_exporter": "python",
   "pygments_lexer": "ipython2",
   "version": "2.7.12"
  }
 },
 "nbformat": 4,
 "nbformat_minor": 1
}
